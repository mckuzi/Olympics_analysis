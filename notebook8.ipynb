{
 "cells": [
  {
   "cell_type": "markdown",
   "id": "ecb7cb0c-9d8f-48b4-b6c5-79c35d9278a2",
   "metadata": {},
   "source": [
    "# Olympics Data (Python + SQL)\n",
    "\n",
    "Let's analzye some olympics data. I'll do some cleaning, join another table and provide some statistics and insights. Let's go."
   ]
  },
  {
   "cell_type": "markdown",
   "id": "c3ad9e3a-8890-4374-bf72-c4562fc79b76",
   "metadata": {},
   "source": [
    "## Load the Data\n",
    "- Importing libraries\n",
    "- Loading data from the directory in the path `athlete_events.csv`\n",
    "- Overview"
   ]
  },
  {
   "cell_type": "code",
   "execution_count": 9,
   "id": "07a3ab83-12d7-431c-a639-23457cebafe6",
   "metadata": {
    "executionCancelledAt": null,
    "executionTime": 481,
    "lastExecutedAt": 1737208968536,
    "lastExecutedByKernel": "8a84c3c1-8991-489d-9264-2fae31a8de5d",
    "lastScheduledRunId": null,
    "lastSuccessfullyExecutedCode": "import pandas as pd\nimport plotly.express as px\n\ndf = pd.read_csv('athlete_events.csv')\n\ndf.head()",
    "outputsMetadata": {
     "0": {
      "height": 500,
      "tableState": {
       "quickFilterText": "",
       "sort": {
        "sortModel": [
         {
          "colId": "age",
          "sort": "desc"
         }
        ]
       }
      },
      "type": "dataFrame"
     }
    }
   },
   "outputs": [
    {
     "data": {
      "text/html": [
       "<div>\n",
       "<style scoped>\n",
       "    .dataframe tbody tr th:only-of-type {\n",
       "        vertical-align: middle;\n",
       "    }\n",
       "\n",
       "    .dataframe tbody tr th {\n",
       "        vertical-align: top;\n",
       "    }\n",
       "\n",
       "    .dataframe thead th {\n",
       "        text-align: right;\n",
       "    }\n",
       "</style>\n",
       "<table border=\"1\" class=\"dataframe\">\n",
       "  <thead>\n",
       "    <tr style=\"text-align: right;\">\n",
       "      <th></th>\n",
       "      <th>id</th>\n",
       "      <th>name</th>\n",
       "      <th>sex</th>\n",
       "      <th>age</th>\n",
       "      <th>height</th>\n",
       "      <th>weight</th>\n",
       "      <th>team</th>\n",
       "      <th>noc</th>\n",
       "      <th>games</th>\n",
       "      <th>year</th>\n",
       "      <th>season</th>\n",
       "      <th>city</th>\n",
       "      <th>sport</th>\n",
       "      <th>event</th>\n",
       "      <th>medal</th>\n",
       "    </tr>\n",
       "  </thead>\n",
       "  <tbody>\n",
       "    <tr>\n",
       "      <th>0</th>\n",
       "      <td>1</td>\n",
       "      <td>A Dijiang</td>\n",
       "      <td>M</td>\n",
       "      <td>24.0</td>\n",
       "      <td>180.0</td>\n",
       "      <td>80.0</td>\n",
       "      <td>China</td>\n",
       "      <td>CHN</td>\n",
       "      <td>1992 Summer</td>\n",
       "      <td>1992</td>\n",
       "      <td>Summer</td>\n",
       "      <td>Barcelona</td>\n",
       "      <td>Basketball</td>\n",
       "      <td>Basketball Men's Basketball</td>\n",
       "      <td>NaN</td>\n",
       "    </tr>\n",
       "    <tr>\n",
       "      <th>1</th>\n",
       "      <td>2</td>\n",
       "      <td>A Lamusi</td>\n",
       "      <td>M</td>\n",
       "      <td>23.0</td>\n",
       "      <td>170.0</td>\n",
       "      <td>60.0</td>\n",
       "      <td>China</td>\n",
       "      <td>CHN</td>\n",
       "      <td>2012 Summer</td>\n",
       "      <td>2012</td>\n",
       "      <td>Summer</td>\n",
       "      <td>London</td>\n",
       "      <td>Judo</td>\n",
       "      <td>Judo Men's Extra-Lightweight</td>\n",
       "      <td>NaN</td>\n",
       "    </tr>\n",
       "    <tr>\n",
       "      <th>2</th>\n",
       "      <td>3</td>\n",
       "      <td>Gunnar Nielsen Aaby</td>\n",
       "      <td>M</td>\n",
       "      <td>24.0</td>\n",
       "      <td>NaN</td>\n",
       "      <td>NaN</td>\n",
       "      <td>Denmark</td>\n",
       "      <td>DEN</td>\n",
       "      <td>1920 Summer</td>\n",
       "      <td>1920</td>\n",
       "      <td>Summer</td>\n",
       "      <td>Antwerpen</td>\n",
       "      <td>Football</td>\n",
       "      <td>Football Men's Football</td>\n",
       "      <td>NaN</td>\n",
       "    </tr>\n",
       "    <tr>\n",
       "      <th>3</th>\n",
       "      <td>4</td>\n",
       "      <td>Edgar Lindenau Aabye</td>\n",
       "      <td>M</td>\n",
       "      <td>34.0</td>\n",
       "      <td>NaN</td>\n",
       "      <td>NaN</td>\n",
       "      <td>Denmark/Sweden</td>\n",
       "      <td>DEN</td>\n",
       "      <td>1900 Summer</td>\n",
       "      <td>1900</td>\n",
       "      <td>Summer</td>\n",
       "      <td>Paris</td>\n",
       "      <td>Tug-Of-War</td>\n",
       "      <td>Tug-Of-War Men's Tug-Of-War</td>\n",
       "      <td>Gold</td>\n",
       "    </tr>\n",
       "    <tr>\n",
       "      <th>4</th>\n",
       "      <td>5</td>\n",
       "      <td>Christine Jacoba Aaftink</td>\n",
       "      <td>F</td>\n",
       "      <td>21.0</td>\n",
       "      <td>185.0</td>\n",
       "      <td>82.0</td>\n",
       "      <td>Netherlands</td>\n",
       "      <td>NED</td>\n",
       "      <td>1988 Winter</td>\n",
       "      <td>1988</td>\n",
       "      <td>Winter</td>\n",
       "      <td>Calgary</td>\n",
       "      <td>Speed Skating</td>\n",
       "      <td>Speed Skating Women's 500 metres</td>\n",
       "      <td>NaN</td>\n",
       "    </tr>\n",
       "  </tbody>\n",
       "</table>\n",
       "</div>"
      ],
      "text/plain": [
       "   id                      name sex   age  height  weight            team  \\\n",
       "0   1                 A Dijiang   M  24.0   180.0    80.0           China   \n",
       "1   2                  A Lamusi   M  23.0   170.0    60.0           China   \n",
       "2   3       Gunnar Nielsen Aaby   M  24.0     NaN     NaN         Denmark   \n",
       "3   4      Edgar Lindenau Aabye   M  34.0     NaN     NaN  Denmark/Sweden   \n",
       "4   5  Christine Jacoba Aaftink   F  21.0   185.0    82.0     Netherlands   \n",
       "\n",
       "   noc        games  year  season       city          sport  \\\n",
       "0  CHN  1992 Summer  1992  Summer  Barcelona     Basketball   \n",
       "1  CHN  2012 Summer  2012  Summer     London           Judo   \n",
       "2  DEN  1920 Summer  1920  Summer  Antwerpen       Football   \n",
       "3  DEN  1900 Summer  1900  Summer      Paris     Tug-Of-War   \n",
       "4  NED  1988 Winter  1988  Winter    Calgary  Speed Skating   \n",
       "\n",
       "                              event medal  \n",
       "0       Basketball Men's Basketball   NaN  \n",
       "1      Judo Men's Extra-Lightweight   NaN  \n",
       "2           Football Men's Football   NaN  \n",
       "3       Tug-Of-War Men's Tug-Of-War  Gold  \n",
       "4  Speed Skating Women's 500 metres   NaN  "
      ]
     },
     "execution_count": 9,
     "metadata": {},
     "output_type": "execute_result"
    }
   ],
   "source": [
    "import pandas as pd\n",
    "import plotly.express as px\n",
    "\n",
    "df = pd.read_csv('athlete_events.csv')\n",
    "\n",
    "df.head()"
   ]
  },
  {
   "cell_type": "markdown",
   "id": "c7303f18-4b74-4b39-8d06-75c9ea573181",
   "metadata": {},
   "source": [
    "Ok, so far, so good. Let's take a look on data types."
   ]
  },
  {
   "cell_type": "code",
   "execution_count": 10,
   "id": "a7ea87a5-1bfd-4c50-9b02-4dc544b91c20",
   "metadata": {
    "executionCancelledAt": null,
    "executionTime": 288,
    "lastExecutedAt": 1737208968824,
    "lastExecutedByKernel": "8a84c3c1-8991-489d-9264-2fae31a8de5d",
    "lastScheduledRunId": null,
    "lastSuccessfullyExecutedCode": "df.info()"
   },
   "outputs": [
    {
     "name": "stdout",
     "output_type": "stream",
     "text": [
      "<class 'pandas.core.frame.DataFrame'>\n",
      "RangeIndex: 271116 entries, 0 to 271115\n",
      "Data columns (total 15 columns):\n",
      " #   Column  Non-Null Count   Dtype  \n",
      "---  ------  --------------   -----  \n",
      " 0   id      271116 non-null  int64  \n",
      " 1   name    271116 non-null  object \n",
      " 2   sex     271116 non-null  object \n",
      " 3   age     261642 non-null  float64\n",
      " 4   height  210945 non-null  float64\n",
      " 5   weight  208241 non-null  float64\n",
      " 6   team    271116 non-null  object \n",
      " 7   noc     271116 non-null  object \n",
      " 8   games   271116 non-null  object \n",
      " 9   year    271116 non-null  int64  \n",
      " 10  season  271116 non-null  object \n",
      " 11  city    271116 non-null  object \n",
      " 12  sport   271116 non-null  object \n",
      " 13  event   271116 non-null  object \n",
      " 14  medal   39783 non-null   object \n",
      "dtypes: float64(3), int64(2), object(10)\n",
      "memory usage: 31.0+ MB\n"
     ]
    }
   ],
   "source": [
    "df.info()"
   ]
  },
  {
   "cell_type": "markdown",
   "id": "ef3310c8-d440-4c10-abd3-b14f47cad027",
   "metadata": {},
   "source": [
    "Seems like the data has some missing values on height, weight and madal column. Let's look at it in details:"
   ]
  },
  {
   "cell_type": "code",
   "execution_count": 11,
   "id": "bcc09d9e-d324-4c2c-a02c-b3ff34f33e8c",
   "metadata": {
    "executionCancelledAt": null,
    "executionTime": 288,
    "lastExecutedAt": 1737208969112,
    "lastExecutedByKernel": "8a84c3c1-8991-489d-9264-2fae31a8de5d",
    "lastScheduledRunId": null,
    "lastSuccessfullyExecutedCode": "# How many missing values?\ndf.isna().sum()",
    "outputsMetadata": {
     "0": {
      "height": 50,
      "tableState": {
       "customFilter": {
        "const": {
         "type": "boolean",
         "valid": true,
         "value": true
        },
        "id": "3f3495d2-dd5b-4f59-96e2-eca59ca7eb91",
        "nodeType": "const"
       },
       "quickFilterText": ""
      },
      "type": "dataFrame"
     }
    }
   },
   "outputs": [
    {
     "data": {
      "text/plain": [
       "id             0\n",
       "name           0\n",
       "sex            0\n",
       "age         9474\n",
       "height     60171\n",
       "weight     62875\n",
       "team           0\n",
       "noc            0\n",
       "games          0\n",
       "year           0\n",
       "season         0\n",
       "city           0\n",
       "sport          0\n",
       "event          0\n",
       "medal     231333\n",
       "dtype: int64"
      ]
     },
     "execution_count": 11,
     "metadata": {},
     "output_type": "execute_result"
    }
   ],
   "source": [
    "# How many missing values?\n",
    "df.isna().sum()"
   ]
  },
  {
   "cell_type": "markdown",
   "id": "0dae8834-bcca-4ff8-a194-d9029fa54d24",
   "metadata": {},
   "source": [
    "When it come to height and weight the reason for missing data is that this dataset reaches the beginning of olympics journey. The missing values is certainly due to lack collecting data of the competitors in he first half of XX century.\n",
    "\n",
    "When it comes to many missing data in `medal` column, the reason is somple - data include information about all sportsman and woman. Not only about those who won medals. The remaining columns with missing values are not of interest to us today.\n",
    "\n",
    "\n",
    "\n",
    "When exploring it, it looked as though some of the teams had hyphens and backslashes. Let's inspect it more closely by inspecting the unique values of the column. \n",
    "\n"
   ]
  },
  {
   "cell_type": "code",
   "execution_count": 12,
   "id": "1e56d952-2958-45d9-b6c1-ead26f818be4",
   "metadata": {
    "executionCancelledAt": null,
    "executionTime": 62,
    "lastExecutedAt": 1737208969174,
    "lastExecutedByKernel": "8a84c3c1-8991-489d-9264-2fae31a8de5d",
    "lastScheduledRunId": null,
    "lastSuccessfullyExecutedCode": "# Inspect the team column\ndf['team'].value_counts().to_frame()",
    "outputsMetadata": {
     "0": {
      "height": 550,
      "tableState": {
       "quickFilterText": ""
      },
      "type": "dataFrame"
     }
    }
   },
   "outputs": [
    {
     "data": {
      "text/html": [
       "<div>\n",
       "<style scoped>\n",
       "    .dataframe tbody tr th:only-of-type {\n",
       "        vertical-align: middle;\n",
       "    }\n",
       "\n",
       "    .dataframe tbody tr th {\n",
       "        vertical-align: top;\n",
       "    }\n",
       "\n",
       "    .dataframe thead th {\n",
       "        text-align: right;\n",
       "    }\n",
       "</style>\n",
       "<table border=\"1\" class=\"dataframe\">\n",
       "  <thead>\n",
       "    <tr style=\"text-align: right;\">\n",
       "      <th></th>\n",
       "      <th>count</th>\n",
       "    </tr>\n",
       "    <tr>\n",
       "      <th>team</th>\n",
       "      <th></th>\n",
       "    </tr>\n",
       "  </thead>\n",
       "  <tbody>\n",
       "    <tr>\n",
       "      <th>United States</th>\n",
       "      <td>17847</td>\n",
       "    </tr>\n",
       "    <tr>\n",
       "      <th>France</th>\n",
       "      <td>11988</td>\n",
       "    </tr>\n",
       "    <tr>\n",
       "      <th>Great Britain</th>\n",
       "      <td>11404</td>\n",
       "    </tr>\n",
       "    <tr>\n",
       "      <th>Italy</th>\n",
       "      <td>10260</td>\n",
       "    </tr>\n",
       "    <tr>\n",
       "      <th>Germany</th>\n",
       "      <td>9326</td>\n",
       "    </tr>\n",
       "    <tr>\n",
       "      <th>...</th>\n",
       "      <td>...</td>\n",
       "    </tr>\n",
       "    <tr>\n",
       "      <th>Briar</th>\n",
       "      <td>1</td>\n",
       "    </tr>\n",
       "    <tr>\n",
       "      <th>Hannover</th>\n",
       "      <td>1</td>\n",
       "    </tr>\n",
       "    <tr>\n",
       "      <th>Nan-2</th>\n",
       "      <td>1</td>\n",
       "    </tr>\n",
       "    <tr>\n",
       "      <th>Brentina</th>\n",
       "      <td>1</td>\n",
       "    </tr>\n",
       "    <tr>\n",
       "      <th>Digby</th>\n",
       "      <td>1</td>\n",
       "    </tr>\n",
       "  </tbody>\n",
       "</table>\n",
       "<p>1184 rows × 1 columns</p>\n",
       "</div>"
      ],
      "text/plain": [
       "               count\n",
       "team                \n",
       "United States  17847\n",
       "France         11988\n",
       "Great Britain  11404\n",
       "Italy          10260\n",
       "Germany         9326\n",
       "...              ...\n",
       "Briar              1\n",
       "Hannover           1\n",
       "Nan-2              1\n",
       "Brentina           1\n",
       "Digby              1\n",
       "\n",
       "[1184 rows x 1 columns]"
      ]
     },
     "execution_count": 12,
     "metadata": {},
     "output_type": "execute_result"
    }
   ],
   "source": [
    "# Inspect the team column\n",
    "df['team'].value_counts().to_frame()"
   ]
  },
  {
   "cell_type": "markdown",
   "id": "36670a74-99d5-43ba-87af-43a5884ddbf7",
   "metadata": {},
   "source": [
    "The `team` column is messy and sometimes countries are separated with `/` or `-`."
   ]
  },
  {
   "cell_type": "code",
   "execution_count": 13,
   "id": "491a0c9d-ff9d-4b78-87bf-09a73c978329",
   "metadata": {
    "executionCancelledAt": null,
    "executionTime": 934,
    "lastExecutedAt": 1737208970108,
    "lastExecutedByKernel": "8a84c3c1-8991-489d-9264-2fae31a8de5d",
    "lastScheduledRunId": null,
    "lastSuccessfullyExecutedCode": "# Split the team column on forward slashes and hyphens\ndf['team_cleaned'] = df['team'].str.split('[/-]').str[0]\n\ndf.head(10)",
    "outputsMetadata": {
     "0": {
      "height": 380,
      "tableState": {
       "quickFilterText": ""
      },
      "type": "dataFrame"
     }
    }
   },
   "outputs": [
    {
     "data": {
      "text/html": [
       "<div>\n",
       "<style scoped>\n",
       "    .dataframe tbody tr th:only-of-type {\n",
       "        vertical-align: middle;\n",
       "    }\n",
       "\n",
       "    .dataframe tbody tr th {\n",
       "        vertical-align: top;\n",
       "    }\n",
       "\n",
       "    .dataframe thead th {\n",
       "        text-align: right;\n",
       "    }\n",
       "</style>\n",
       "<table border=\"1\" class=\"dataframe\">\n",
       "  <thead>\n",
       "    <tr style=\"text-align: right;\">\n",
       "      <th></th>\n",
       "      <th>id</th>\n",
       "      <th>name</th>\n",
       "      <th>sex</th>\n",
       "      <th>age</th>\n",
       "      <th>height</th>\n",
       "      <th>weight</th>\n",
       "      <th>team</th>\n",
       "      <th>noc</th>\n",
       "      <th>games</th>\n",
       "      <th>year</th>\n",
       "      <th>season</th>\n",
       "      <th>city</th>\n",
       "      <th>sport</th>\n",
       "      <th>event</th>\n",
       "      <th>medal</th>\n",
       "      <th>team_cleaned</th>\n",
       "    </tr>\n",
       "  </thead>\n",
       "  <tbody>\n",
       "    <tr>\n",
       "      <th>0</th>\n",
       "      <td>1</td>\n",
       "      <td>A Dijiang</td>\n",
       "      <td>M</td>\n",
       "      <td>24.0</td>\n",
       "      <td>180.0</td>\n",
       "      <td>80.0</td>\n",
       "      <td>China</td>\n",
       "      <td>CHN</td>\n",
       "      <td>1992 Summer</td>\n",
       "      <td>1992</td>\n",
       "      <td>Summer</td>\n",
       "      <td>Barcelona</td>\n",
       "      <td>Basketball</td>\n",
       "      <td>Basketball Men's Basketball</td>\n",
       "      <td>NaN</td>\n",
       "      <td>China</td>\n",
       "    </tr>\n",
       "    <tr>\n",
       "      <th>1</th>\n",
       "      <td>2</td>\n",
       "      <td>A Lamusi</td>\n",
       "      <td>M</td>\n",
       "      <td>23.0</td>\n",
       "      <td>170.0</td>\n",
       "      <td>60.0</td>\n",
       "      <td>China</td>\n",
       "      <td>CHN</td>\n",
       "      <td>2012 Summer</td>\n",
       "      <td>2012</td>\n",
       "      <td>Summer</td>\n",
       "      <td>London</td>\n",
       "      <td>Judo</td>\n",
       "      <td>Judo Men's Extra-Lightweight</td>\n",
       "      <td>NaN</td>\n",
       "      <td>China</td>\n",
       "    </tr>\n",
       "    <tr>\n",
       "      <th>2</th>\n",
       "      <td>3</td>\n",
       "      <td>Gunnar Nielsen Aaby</td>\n",
       "      <td>M</td>\n",
       "      <td>24.0</td>\n",
       "      <td>NaN</td>\n",
       "      <td>NaN</td>\n",
       "      <td>Denmark</td>\n",
       "      <td>DEN</td>\n",
       "      <td>1920 Summer</td>\n",
       "      <td>1920</td>\n",
       "      <td>Summer</td>\n",
       "      <td>Antwerpen</td>\n",
       "      <td>Football</td>\n",
       "      <td>Football Men's Football</td>\n",
       "      <td>NaN</td>\n",
       "      <td>Denmark</td>\n",
       "    </tr>\n",
       "    <tr>\n",
       "      <th>3</th>\n",
       "      <td>4</td>\n",
       "      <td>Edgar Lindenau Aabye</td>\n",
       "      <td>M</td>\n",
       "      <td>34.0</td>\n",
       "      <td>NaN</td>\n",
       "      <td>NaN</td>\n",
       "      <td>Denmark/Sweden</td>\n",
       "      <td>DEN</td>\n",
       "      <td>1900 Summer</td>\n",
       "      <td>1900</td>\n",
       "      <td>Summer</td>\n",
       "      <td>Paris</td>\n",
       "      <td>Tug-Of-War</td>\n",
       "      <td>Tug-Of-War Men's Tug-Of-War</td>\n",
       "      <td>Gold</td>\n",
       "      <td>Denmark</td>\n",
       "    </tr>\n",
       "    <tr>\n",
       "      <th>4</th>\n",
       "      <td>5</td>\n",
       "      <td>Christine Jacoba Aaftink</td>\n",
       "      <td>F</td>\n",
       "      <td>21.0</td>\n",
       "      <td>185.0</td>\n",
       "      <td>82.0</td>\n",
       "      <td>Netherlands</td>\n",
       "      <td>NED</td>\n",
       "      <td>1988 Winter</td>\n",
       "      <td>1988</td>\n",
       "      <td>Winter</td>\n",
       "      <td>Calgary</td>\n",
       "      <td>Speed Skating</td>\n",
       "      <td>Speed Skating Women's 500 metres</td>\n",
       "      <td>NaN</td>\n",
       "      <td>Netherlands</td>\n",
       "    </tr>\n",
       "    <tr>\n",
       "      <th>5</th>\n",
       "      <td>5</td>\n",
       "      <td>Christine Jacoba Aaftink</td>\n",
       "      <td>F</td>\n",
       "      <td>21.0</td>\n",
       "      <td>185.0</td>\n",
       "      <td>82.0</td>\n",
       "      <td>Netherlands</td>\n",
       "      <td>NED</td>\n",
       "      <td>1988 Winter</td>\n",
       "      <td>1988</td>\n",
       "      <td>Winter</td>\n",
       "      <td>Calgary</td>\n",
       "      <td>Speed Skating</td>\n",
       "      <td>Speed Skating Women's 1,000 metres</td>\n",
       "      <td>NaN</td>\n",
       "      <td>Netherlands</td>\n",
       "    </tr>\n",
       "    <tr>\n",
       "      <th>6</th>\n",
       "      <td>5</td>\n",
       "      <td>Christine Jacoba Aaftink</td>\n",
       "      <td>F</td>\n",
       "      <td>25.0</td>\n",
       "      <td>185.0</td>\n",
       "      <td>82.0</td>\n",
       "      <td>Netherlands</td>\n",
       "      <td>NED</td>\n",
       "      <td>1992 Winter</td>\n",
       "      <td>1992</td>\n",
       "      <td>Winter</td>\n",
       "      <td>Albertville</td>\n",
       "      <td>Speed Skating</td>\n",
       "      <td>Speed Skating Women's 500 metres</td>\n",
       "      <td>NaN</td>\n",
       "      <td>Netherlands</td>\n",
       "    </tr>\n",
       "    <tr>\n",
       "      <th>7</th>\n",
       "      <td>5</td>\n",
       "      <td>Christine Jacoba Aaftink</td>\n",
       "      <td>F</td>\n",
       "      <td>25.0</td>\n",
       "      <td>185.0</td>\n",
       "      <td>82.0</td>\n",
       "      <td>Netherlands</td>\n",
       "      <td>NED</td>\n",
       "      <td>1992 Winter</td>\n",
       "      <td>1992</td>\n",
       "      <td>Winter</td>\n",
       "      <td>Albertville</td>\n",
       "      <td>Speed Skating</td>\n",
       "      <td>Speed Skating Women's 1,000 metres</td>\n",
       "      <td>NaN</td>\n",
       "      <td>Netherlands</td>\n",
       "    </tr>\n",
       "    <tr>\n",
       "      <th>8</th>\n",
       "      <td>5</td>\n",
       "      <td>Christine Jacoba Aaftink</td>\n",
       "      <td>F</td>\n",
       "      <td>27.0</td>\n",
       "      <td>185.0</td>\n",
       "      <td>82.0</td>\n",
       "      <td>Netherlands</td>\n",
       "      <td>NED</td>\n",
       "      <td>1994 Winter</td>\n",
       "      <td>1994</td>\n",
       "      <td>Winter</td>\n",
       "      <td>Lillehammer</td>\n",
       "      <td>Speed Skating</td>\n",
       "      <td>Speed Skating Women's 500 metres</td>\n",
       "      <td>NaN</td>\n",
       "      <td>Netherlands</td>\n",
       "    </tr>\n",
       "    <tr>\n",
       "      <th>9</th>\n",
       "      <td>5</td>\n",
       "      <td>Christine Jacoba Aaftink</td>\n",
       "      <td>F</td>\n",
       "      <td>27.0</td>\n",
       "      <td>185.0</td>\n",
       "      <td>82.0</td>\n",
       "      <td>Netherlands</td>\n",
       "      <td>NED</td>\n",
       "      <td>1994 Winter</td>\n",
       "      <td>1994</td>\n",
       "      <td>Winter</td>\n",
       "      <td>Lillehammer</td>\n",
       "      <td>Speed Skating</td>\n",
       "      <td>Speed Skating Women's 1,000 metres</td>\n",
       "      <td>NaN</td>\n",
       "      <td>Netherlands</td>\n",
       "    </tr>\n",
       "  </tbody>\n",
       "</table>\n",
       "</div>"
      ],
      "text/plain": [
       "   id                      name sex   age  height  weight            team  \\\n",
       "0   1                 A Dijiang   M  24.0   180.0    80.0           China   \n",
       "1   2                  A Lamusi   M  23.0   170.0    60.0           China   \n",
       "2   3       Gunnar Nielsen Aaby   M  24.0     NaN     NaN         Denmark   \n",
       "3   4      Edgar Lindenau Aabye   M  34.0     NaN     NaN  Denmark/Sweden   \n",
       "4   5  Christine Jacoba Aaftink   F  21.0   185.0    82.0     Netherlands   \n",
       "5   5  Christine Jacoba Aaftink   F  21.0   185.0    82.0     Netherlands   \n",
       "6   5  Christine Jacoba Aaftink   F  25.0   185.0    82.0     Netherlands   \n",
       "7   5  Christine Jacoba Aaftink   F  25.0   185.0    82.0     Netherlands   \n",
       "8   5  Christine Jacoba Aaftink   F  27.0   185.0    82.0     Netherlands   \n",
       "9   5  Christine Jacoba Aaftink   F  27.0   185.0    82.0     Netherlands   \n",
       "\n",
       "   noc        games  year  season         city          sport  \\\n",
       "0  CHN  1992 Summer  1992  Summer    Barcelona     Basketball   \n",
       "1  CHN  2012 Summer  2012  Summer       London           Judo   \n",
       "2  DEN  1920 Summer  1920  Summer    Antwerpen       Football   \n",
       "3  DEN  1900 Summer  1900  Summer        Paris     Tug-Of-War   \n",
       "4  NED  1988 Winter  1988  Winter      Calgary  Speed Skating   \n",
       "5  NED  1988 Winter  1988  Winter      Calgary  Speed Skating   \n",
       "6  NED  1992 Winter  1992  Winter  Albertville  Speed Skating   \n",
       "7  NED  1992 Winter  1992  Winter  Albertville  Speed Skating   \n",
       "8  NED  1994 Winter  1994  Winter  Lillehammer  Speed Skating   \n",
       "9  NED  1994 Winter  1994  Winter  Lillehammer  Speed Skating   \n",
       "\n",
       "                                event medal team_cleaned  \n",
       "0         Basketball Men's Basketball   NaN        China  \n",
       "1        Judo Men's Extra-Lightweight   NaN        China  \n",
       "2             Football Men's Football   NaN      Denmark  \n",
       "3         Tug-Of-War Men's Tug-Of-War  Gold      Denmark  \n",
       "4    Speed Skating Women's 500 metres   NaN  Netherlands  \n",
       "5  Speed Skating Women's 1,000 metres   NaN  Netherlands  \n",
       "6    Speed Skating Women's 500 metres   NaN  Netherlands  \n",
       "7  Speed Skating Women's 1,000 metres   NaN  Netherlands  \n",
       "8    Speed Skating Women's 500 metres   NaN  Netherlands  \n",
       "9  Speed Skating Women's 1,000 metres   NaN  Netherlands  "
      ]
     },
     "execution_count": 13,
     "metadata": {},
     "output_type": "execute_result"
    }
   ],
   "source": [
    "# Split the team column on forward slashes and hyphens\n",
    "df['team_cleaned'] = df['team'].str.split('[/-]').str[0]\n",
    "\n",
    "df.head(10)"
   ]
  },
  {
   "cell_type": "markdown",
   "id": "6c5d3db9-2231-4825-a5d5-f9122163f206",
   "metadata": {},
   "source": [
    "## Bring in additional data\n",
    "Lets add some data about world nations to broaden the analysis."
   ]
  },
  {
   "cell_type": "code",
   "execution_count": 14,
   "id": "6a409171-b0f5-4229-acef-cd2a8a3c9e15",
   "metadata": {
    "customType": "sql",
    "dataFrameVariableName": "nations_data",
    "executionCancelledAt": null,
    "executionTime": 1152,
    "initial": false,
    "integrationId": "e889018f-b53b-47b9-9a43-3c766b6e4940",
    "lastExecutedAt": 1737209457044,
    "lastExecutedByKernel": "8a84c3c1-8991-489d-9264-2fae31a8de5d",
    "lastScheduledRunId": null,
    "lastSuccessfullyExecutedCode": "select\n\tname as country,\n\tyear,\n\tpopulation\nfrom countries\ninner join country_stats using(country_id)",
    "outputsMetadata": {
     "0": {
      "height": 550,
      "tableState": {
       "customFilter": {
        "const": {
         "type": "boolean",
         "valid": true,
         "value": true
        },
        "id": "3f3495d2-dd5b-4f59-96e2-eca59ca7eb91",
        "nodeType": "const"
       },
       "quickFilterText": ""
      },
      "type": "dataFrame"
     }
    }
   },
   "outputs": [
    {
     "ename": "IndentationError",
     "evalue": "unexpected indent (3779165799.py, line 2)",
     "output_type": "error",
     "traceback": [
      "\u001b[1;36m  Cell \u001b[1;32mIn[14], line 2\u001b[1;36m\u001b[0m\n\u001b[1;33m    name as country,\u001b[0m\n\u001b[1;37m    ^\u001b[0m\n\u001b[1;31mIndentationError\u001b[0m\u001b[1;31m:\u001b[0m unexpected indent\n"
     ]
    }
   ],
   "source": [
    "select\n",
    "\tname as country,\n",
    "\tyear,\n",
    "\tpopulation\n",
    "from countries\n",
    "inner join country_stats using(country_id)"
   ]
  },
  {
   "cell_type": "markdown",
   "id": "6987a567-d3df-492f-a3af-59d3de402729",
   "metadata": {},
   "source": [
    "Nice data aobut the countries! Let's merge it to the Olympics"
   ]
  },
  {
   "cell_type": "code",
   "execution_count": 15,
   "id": "f9d4d72d-02c4-4365-b36e-7db91e54b0a3",
   "metadata": {
    "executionCancelledAt": null,
    "executionTime": 175,
    "lastExecutedAt": 1737208971696,
    "lastExecutedByKernel": "8a84c3c1-8991-489d-9264-2fae31a8de5d",
    "lastScheduledRunId": null,
    "lastSuccessfullyExecutedCode": "df2 = df.merge(nations_data, left_on=['team_cleaned', 'year'], right_on=['country', 'year'], how='left')\n\ndf2.head()",
    "outputsMetadata": {
     "0": {
      "height": 262,
      "tableState": {
       "quickFilterText": ""
      },
      "type": "dataFrame"
     }
    }
   },
   "outputs": [
    {
     "ename": "NameError",
     "evalue": "name 'nations_data' is not defined",
     "output_type": "error",
     "traceback": [
      "\u001b[1;31m---------------------------------------------------------------------------\u001b[0m",
      "\u001b[1;31mNameError\u001b[0m                                 Traceback (most recent call last)",
      "Cell \u001b[1;32mIn[15], line 1\u001b[0m\n\u001b[1;32m----> 1\u001b[0m df2 \u001b[38;5;241m=\u001b[39m df\u001b[38;5;241m.\u001b[39mmerge(nations_data, left_on\u001b[38;5;241m=\u001b[39m[\u001b[38;5;124m'\u001b[39m\u001b[38;5;124mteam_cleaned\u001b[39m\u001b[38;5;124m'\u001b[39m, \u001b[38;5;124m'\u001b[39m\u001b[38;5;124myear\u001b[39m\u001b[38;5;124m'\u001b[39m], right_on\u001b[38;5;241m=\u001b[39m[\u001b[38;5;124m'\u001b[39m\u001b[38;5;124mcountry\u001b[39m\u001b[38;5;124m'\u001b[39m, \u001b[38;5;124m'\u001b[39m\u001b[38;5;124myear\u001b[39m\u001b[38;5;124m'\u001b[39m], how\u001b[38;5;241m=\u001b[39m\u001b[38;5;124m'\u001b[39m\u001b[38;5;124mleft\u001b[39m\u001b[38;5;124m'\u001b[39m)\n\u001b[0;32m      3\u001b[0m df2\u001b[38;5;241m.\u001b[39mhead()\n",
      "\u001b[1;31mNameError\u001b[0m: name 'nations_data' is not defined"
     ]
    }
   ],
   "source": [
    "df2 = df.merge(nations_data, left_on=['team_cleaned', 'year'], right_on=['country', 'year'], how='left')\n",
    "\n",
    "df2.head()"
   ]
  },
  {
   "cell_type": "markdown",
   "id": "ad3120fa-af5f-499b-be83-1b13811de0df",
   "metadata": {},
   "source": [
    "## 🏆&nbsp;&nbsp;Which countries have the most gold medals?\n",
    "Let's start by calculating and visualizing the number of gold medals won by athletes from different countries."
   ]
  },
  {
   "cell_type": "code",
   "execution_count": 16,
   "id": "1f92e9e2-5150-4300-a217-85e29a824b8f",
   "metadata": {
    "executionCancelledAt": null,
    "executionTime": 102,
    "lastExecutedAt": 1737208971798,
    "lastExecutedByKernel": "8a84c3c1-8991-489d-9264-2fae31a8de5d",
    "lastScheduledRunId": null,
    "lastSuccessfullyExecutedCode": "# Count the number of gold medals earned by a country\ngold_count = df2.query('medal == \"Gold\"').groupby('team_cleaned',as_index=False)['medal'].count()\n\n# Sort the values\ngold_count.sort_values('medal', ascending=False, inplace=True)\n\ngold_count.head(3)",
    "outputsMetadata": {
     "0": {
      "height": 550,
      "tableState": {
       "quickFilterText": ""
      },
      "type": "dataFrame"
     }
    }
   },
   "outputs": [
    {
     "ename": "NameError",
     "evalue": "name 'df2' is not defined",
     "output_type": "error",
     "traceback": [
      "\u001b[1;31m---------------------------------------------------------------------------\u001b[0m",
      "\u001b[1;31mNameError\u001b[0m                                 Traceback (most recent call last)",
      "Cell \u001b[1;32mIn[16], line 2\u001b[0m\n\u001b[0;32m      1\u001b[0m \u001b[38;5;66;03m# Count the number of gold medals earned by a country\u001b[39;00m\n\u001b[1;32m----> 2\u001b[0m gold_count \u001b[38;5;241m=\u001b[39m df2\u001b[38;5;241m.\u001b[39mquery(\u001b[38;5;124m'\u001b[39m\u001b[38;5;124mmedal == \u001b[39m\u001b[38;5;124m\"\u001b[39m\u001b[38;5;124mGold\u001b[39m\u001b[38;5;124m\"\u001b[39m\u001b[38;5;124m'\u001b[39m)\u001b[38;5;241m.\u001b[39mgroupby(\u001b[38;5;124m'\u001b[39m\u001b[38;5;124mteam_cleaned\u001b[39m\u001b[38;5;124m'\u001b[39m,as_index\u001b[38;5;241m=\u001b[39m\u001b[38;5;28;01mFalse\u001b[39;00m)[\u001b[38;5;124m'\u001b[39m\u001b[38;5;124mmedal\u001b[39m\u001b[38;5;124m'\u001b[39m]\u001b[38;5;241m.\u001b[39mcount()\n\u001b[0;32m      4\u001b[0m \u001b[38;5;66;03m# Sort the values\u001b[39;00m\n\u001b[0;32m      5\u001b[0m gold_count\u001b[38;5;241m.\u001b[39msort_values(\u001b[38;5;124m'\u001b[39m\u001b[38;5;124mmedal\u001b[39m\u001b[38;5;124m'\u001b[39m, ascending\u001b[38;5;241m=\u001b[39m\u001b[38;5;28;01mFalse\u001b[39;00m, inplace\u001b[38;5;241m=\u001b[39m\u001b[38;5;28;01mTrue\u001b[39;00m)\n",
      "\u001b[1;31mNameError\u001b[0m: name 'df2' is not defined"
     ]
    }
   ],
   "source": [
    "# Count the number of gold medals earned by a country\n",
    "gold_count = df2.query('medal == \"Gold\"').groupby('team_cleaned',as_index=False)['medal'].count()\n",
    "\n",
    "# Sort the values\n",
    "gold_count.sort_values('medal', ascending=False, inplace=True)\n",
    "\n",
    "gold_count.head(3)"
   ]
  },
  {
   "cell_type": "markdown",
   "id": "89a00fdc-d0cb-4a93-9282-75b0661ffb4e",
   "metadata": {},
   "source": [
    "Let's visualize this with nice choropleth map, where the country's color is based upon the medal count!"
   ]
  },
  {
   "cell_type": "code",
   "execution_count": 17,
   "id": "ed081178-1ac5-442c-b477-33555c7d0006",
   "metadata": {
    "executionCancelledAt": null,
    "executionTime": 82,
    "lastExecutedAt": 1737208971880,
    "lastExecutedByKernel": "8a84c3c1-8991-489d-9264-2fae31a8de5d",
    "lastScheduledRunId": null,
    "lastSuccessfullyExecutedCode": "fig = px.choropleth(\n    gold_count,\n    locations='team_cleaned',\n    locationmode='country names',\n    color='medal',\n    labels={'team_cleaned': 'Country', 'medal': 'Medal Count'},\n    title='Number of gold medals by country'\n)\n\nfig.show()"
   },
   "outputs": [
    {
     "ename": "NameError",
     "evalue": "name 'gold_count' is not defined",
     "output_type": "error",
     "traceback": [
      "\u001b[1;31m---------------------------------------------------------------------------\u001b[0m",
      "\u001b[1;31mNameError\u001b[0m                                 Traceback (most recent call last)",
      "Cell \u001b[1;32mIn[17], line 2\u001b[0m\n\u001b[0;32m      1\u001b[0m fig \u001b[38;5;241m=\u001b[39m px\u001b[38;5;241m.\u001b[39mchoropleth(\n\u001b[1;32m----> 2\u001b[0m     gold_count,\n\u001b[0;32m      3\u001b[0m     locations\u001b[38;5;241m=\u001b[39m\u001b[38;5;124m'\u001b[39m\u001b[38;5;124mteam_cleaned\u001b[39m\u001b[38;5;124m'\u001b[39m,\n\u001b[0;32m      4\u001b[0m     locationmode\u001b[38;5;241m=\u001b[39m\u001b[38;5;124m'\u001b[39m\u001b[38;5;124mcountry names\u001b[39m\u001b[38;5;124m'\u001b[39m,\n\u001b[0;32m      5\u001b[0m     color\u001b[38;5;241m=\u001b[39m\u001b[38;5;124m'\u001b[39m\u001b[38;5;124mmedal\u001b[39m\u001b[38;5;124m'\u001b[39m,\n\u001b[0;32m      6\u001b[0m     labels\u001b[38;5;241m=\u001b[39m{\u001b[38;5;124m'\u001b[39m\u001b[38;5;124mteam_cleaned\u001b[39m\u001b[38;5;124m'\u001b[39m: \u001b[38;5;124m'\u001b[39m\u001b[38;5;124mCountry\u001b[39m\u001b[38;5;124m'\u001b[39m, \u001b[38;5;124m'\u001b[39m\u001b[38;5;124mmedal\u001b[39m\u001b[38;5;124m'\u001b[39m: \u001b[38;5;124m'\u001b[39m\u001b[38;5;124mMedal Count\u001b[39m\u001b[38;5;124m'\u001b[39m},\n\u001b[0;32m      7\u001b[0m     title\u001b[38;5;241m=\u001b[39m\u001b[38;5;124m'\u001b[39m\u001b[38;5;124mNumber of gold medals by country\u001b[39m\u001b[38;5;124m'\u001b[39m\n\u001b[0;32m      8\u001b[0m )\n\u001b[0;32m     10\u001b[0m fig\u001b[38;5;241m.\u001b[39mshow()\n",
      "\u001b[1;31mNameError\u001b[0m: name 'gold_count' is not defined"
     ]
    }
   ],
   "source": [
    "fig = px.choropleth(\n",
    "    gold_count,\n",
    "    locations='team_cleaned',\n",
    "    locationmode='country names',\n",
    "    color='medal',\n",
    "    labels={'team_cleaned': 'Country', 'medal': 'Medal Count'},\n",
    "    title='Number of gold medals by country'\n",
    ")\n",
    "\n",
    "fig.show()"
   ]
  },
  {
   "cell_type": "markdown",
   "id": "277fe8da-d63f-4d76-ad6b-9eac573b2407",
   "metadata": {},
   "source": [
    "## 📈&nbsp;&nbsp;How has the number of sports grown over time?"
   ]
  },
  {
   "cell_type": "code",
   "execution_count": 18,
   "id": "98cfbf19-c106-4065-9a13-878cd9385430",
   "metadata": {
    "executionCancelledAt": null,
    "executionTime": 88,
    "lastExecutedAt": 1737208971969,
    "lastExecutedByKernel": "8a84c3c1-8991-489d-9264-2fae31a8de5d",
    "lastScheduledRunId": null,
    "lastSuccessfullyExecutedCode": "sport_count = df2.groupby(['year','season'], as_index=False)['sport'].nunique()\n\nsport_count",
    "outputsMetadata": {
     "0": {
      "height": 550,
      "tableState": {
       "quickFilterText": ""
      },
      "type": "dataFrame"
     }
    }
   },
   "outputs": [
    {
     "ename": "NameError",
     "evalue": "name 'df2' is not defined",
     "output_type": "error",
     "traceback": [
      "\u001b[1;31m---------------------------------------------------------------------------\u001b[0m",
      "\u001b[1;31mNameError\u001b[0m                                 Traceback (most recent call last)",
      "Cell \u001b[1;32mIn[18], line 1\u001b[0m\n\u001b[1;32m----> 1\u001b[0m sport_count \u001b[38;5;241m=\u001b[39m df2\u001b[38;5;241m.\u001b[39mgroupby([\u001b[38;5;124m'\u001b[39m\u001b[38;5;124myear\u001b[39m\u001b[38;5;124m'\u001b[39m,\u001b[38;5;124m'\u001b[39m\u001b[38;5;124mseason\u001b[39m\u001b[38;5;124m'\u001b[39m], as_index\u001b[38;5;241m=\u001b[39m\u001b[38;5;28;01mFalse\u001b[39;00m)[\u001b[38;5;124m'\u001b[39m\u001b[38;5;124msport\u001b[39m\u001b[38;5;124m'\u001b[39m]\u001b[38;5;241m.\u001b[39mnunique()\n\u001b[0;32m      3\u001b[0m sport_count\n",
      "\u001b[1;31mNameError\u001b[0m: name 'df2' is not defined"
     ]
    }
   ],
   "source": [
    "sport_count = df2.groupby(['year','season'], as_index=False)['sport'].nunique()\n",
    "\n",
    "sport_count"
   ]
  },
  {
   "cell_type": "markdown",
   "id": "88fb9aec-c925-43b8-a985-e225a999f6f9",
   "metadata": {},
   "source": [
    "Now it's time for the line plot"
   ]
  },
  {
   "cell_type": "code",
   "execution_count": 19,
   "id": "7dec3a2b-4554-4336-8326-881b73c803bb",
   "metadata": {
    "executionCancelledAt": null,
    "executionTime": 85,
    "lastExecutedAt": 1737208972054,
    "lastExecutedByKernel": "8a84c3c1-8991-489d-9264-2fae31a8de5d",
    "lastScheduledRunId": null,
    "lastSuccessfullyExecutedCode": "fig = px.line(\n    sport_count,\n    x='year',\n    y='sport',\n    color='season',\n    labels={'year': 'Year', 'sport': 'Sport Count', 'season' : 'Season'},\n    title='Count of distinct Sports by Year and Season'\n    \n)\n\nfig.show()",
    "outputsMetadata": {
     "0": {
      "height": 467,
      "type": "plotly"
     }
    }
   },
   "outputs": [
    {
     "ename": "NameError",
     "evalue": "name 'sport_count' is not defined",
     "output_type": "error",
     "traceback": [
      "\u001b[1;31m---------------------------------------------------------------------------\u001b[0m",
      "\u001b[1;31mNameError\u001b[0m                                 Traceback (most recent call last)",
      "Cell \u001b[1;32mIn[19], line 2\u001b[0m\n\u001b[0;32m      1\u001b[0m fig \u001b[38;5;241m=\u001b[39m px\u001b[38;5;241m.\u001b[39mline(\n\u001b[1;32m----> 2\u001b[0m     sport_count,\n\u001b[0;32m      3\u001b[0m     x\u001b[38;5;241m=\u001b[39m\u001b[38;5;124m'\u001b[39m\u001b[38;5;124myear\u001b[39m\u001b[38;5;124m'\u001b[39m,\n\u001b[0;32m      4\u001b[0m     y\u001b[38;5;241m=\u001b[39m\u001b[38;5;124m'\u001b[39m\u001b[38;5;124msport\u001b[39m\u001b[38;5;124m'\u001b[39m,\n\u001b[0;32m      5\u001b[0m     color\u001b[38;5;241m=\u001b[39m\u001b[38;5;124m'\u001b[39m\u001b[38;5;124mseason\u001b[39m\u001b[38;5;124m'\u001b[39m,\n\u001b[0;32m      6\u001b[0m     labels\u001b[38;5;241m=\u001b[39m{\u001b[38;5;124m'\u001b[39m\u001b[38;5;124myear\u001b[39m\u001b[38;5;124m'\u001b[39m: \u001b[38;5;124m'\u001b[39m\u001b[38;5;124mYear\u001b[39m\u001b[38;5;124m'\u001b[39m, \u001b[38;5;124m'\u001b[39m\u001b[38;5;124msport\u001b[39m\u001b[38;5;124m'\u001b[39m: \u001b[38;5;124m'\u001b[39m\u001b[38;5;124mSport Count\u001b[39m\u001b[38;5;124m'\u001b[39m, \u001b[38;5;124m'\u001b[39m\u001b[38;5;124mseason\u001b[39m\u001b[38;5;124m'\u001b[39m : \u001b[38;5;124m'\u001b[39m\u001b[38;5;124mSeason\u001b[39m\u001b[38;5;124m'\u001b[39m},\n\u001b[0;32m      7\u001b[0m     title\u001b[38;5;241m=\u001b[39m\u001b[38;5;124m'\u001b[39m\u001b[38;5;124mCount of distinct Sports by Year and Season\u001b[39m\u001b[38;5;124m'\u001b[39m\n\u001b[0;32m      8\u001b[0m     \n\u001b[0;32m      9\u001b[0m )\n\u001b[0;32m     11\u001b[0m fig\u001b[38;5;241m.\u001b[39mshow()\n",
      "\u001b[1;31mNameError\u001b[0m: name 'sport_count' is not defined"
     ]
    }
   ],
   "source": [
    "fig = px.line(\n",
    "    sport_count,\n",
    "    x='year',\n",
    "    y='sport',\n",
    "    color='season',\n",
    "    labels={'year': 'Year', 'sport': 'Sport Count', 'season' : 'Season'},\n",
    "    title='Count of distinct Sports by Year and Season'\n",
    "    \n",
    ")\n",
    "\n",
    "fig.show()"
   ]
  },
  {
   "cell_type": "markdown",
   "id": "e9e35305-8b47-4719-8c36-dab31d0d0387",
   "metadata": {},
   "source": [
    "## 👪&nbsp;&nbsp;Which countries had the highest medal count per 10 million people in 2016?"
   ]
  },
  {
   "cell_type": "code",
   "execution_count": 20,
   "id": "4d50979b-d63a-47d2-a51c-d6a1f828b730",
   "metadata": {
    "executionCancelledAt": null,
    "executionTime": 50,
    "lastExecutedAt": 1737208972104,
    "lastExecutedByKernel": "8a84c3c1-8991-489d-9264-2fae31a8de5d",
    "lastScheduledRunId": null,
    "lastSuccessfullyExecutedCode": "# Calculate event medals\nevent_medals = df2.query('year == 2016')\\\n    .groupby(['team_cleaned', 'event', 'medal', 'population'], as_index=False)['medal'].first()\n\nevent_medals.head()",
    "outputsMetadata": {
     "0": {
      "height": 82,
      "tableState": {
       "customFilter": {
        "const": {
         "type": "boolean",
         "valid": true,
         "value": true
        },
        "id": "3f3495d2-dd5b-4f59-96e2-eca59ca7eb91",
        "nodeType": "const"
       },
       "quickFilterText": ""
      },
      "type": "dataFrame"
     }
    }
   },
   "outputs": [
    {
     "ename": "NameError",
     "evalue": "name 'df2' is not defined",
     "output_type": "error",
     "traceback": [
      "\u001b[1;31m---------------------------------------------------------------------------\u001b[0m",
      "\u001b[1;31mNameError\u001b[0m                                 Traceback (most recent call last)",
      "Cell \u001b[1;32mIn[20], line 2\u001b[0m\n\u001b[0;32m      1\u001b[0m \u001b[38;5;66;03m# Calculate event medals\u001b[39;00m\n\u001b[1;32m----> 2\u001b[0m event_medals \u001b[38;5;241m=\u001b[39m df2\u001b[38;5;241m.\u001b[39mquery(\u001b[38;5;124m'\u001b[39m\u001b[38;5;124myear == 2016\u001b[39m\u001b[38;5;124m'\u001b[39m)\\\n\u001b[0;32m      3\u001b[0m     \u001b[38;5;241m.\u001b[39mgroupby([\u001b[38;5;124m'\u001b[39m\u001b[38;5;124mteam_cleaned\u001b[39m\u001b[38;5;124m'\u001b[39m, \u001b[38;5;124m'\u001b[39m\u001b[38;5;124mevent\u001b[39m\u001b[38;5;124m'\u001b[39m, \u001b[38;5;124m'\u001b[39m\u001b[38;5;124mmedal\u001b[39m\u001b[38;5;124m'\u001b[39m, \u001b[38;5;124m'\u001b[39m\u001b[38;5;124mpopulation\u001b[39m\u001b[38;5;124m'\u001b[39m], as_index\u001b[38;5;241m=\u001b[39m\u001b[38;5;28;01mFalse\u001b[39;00m)[\u001b[38;5;124m'\u001b[39m\u001b[38;5;124mmedal\u001b[39m\u001b[38;5;124m'\u001b[39m]\u001b[38;5;241m.\u001b[39mfirst()\n\u001b[0;32m      5\u001b[0m event_medals\u001b[38;5;241m.\u001b[39mhead()\n",
      "\u001b[1;31mNameError\u001b[0m: name 'df2' is not defined"
     ]
    }
   ],
   "source": [
    "# Calculate event medals\n",
    "event_medals = df2.query('year == 2016')\\\n",
    "    .groupby(['team_cleaned', 'event', 'medal', 'population'], as_index=False)['medal'].first()\n",
    "\n",
    "event_medals.head()"
   ]
  },
  {
   "cell_type": "markdown",
   "id": "c51d4d9a-aec1-40f9-ac7b-af04515c4b53",
   "metadata": {},
   "source": [
    "Calculate the ratio of medal count to population (divided by 10 million for interpretability)."
   ]
  },
  {
   "cell_type": "code",
   "execution_count": 21,
   "id": "d917a73d-34da-4276-960c-19d941ccb031",
   "metadata": {
    "executionCancelledAt": null,
    "executionTime": 53,
    "lastExecutedAt": 1737208972157,
    "lastExecutedByKernel": "8a84c3c1-8991-489d-9264-2fae31a8de5d",
    "lastScheduledRunId": null,
    "lastSuccessfullyExecutedCode": "# Group by the team and population\nmedal_counts = event_medals.groupby(['team_cleaned', 'population'], as_index=False)['medal'].count()\n\n# Calculate the number of medals per 10000000 people\nmedal_counts['per_10M'] = medal_counts['medal'] / (medal_counts['population'] / 1000000)\n\n# Sort values and take the top 20 countries\ntop_countries = medal_counts.sort_values('per_10M', ascending=False).head(20)\n\ntop_countries.head()",
    "outputsMetadata": {
     "0": {
      "height": 82,
      "tableState": {
       "quickFilterText": ""
      },
      "type": "dataFrame"
     }
    }
   },
   "outputs": [
    {
     "ename": "NameError",
     "evalue": "name 'event_medals' is not defined",
     "output_type": "error",
     "traceback": [
      "\u001b[1;31m---------------------------------------------------------------------------\u001b[0m",
      "\u001b[1;31mNameError\u001b[0m                                 Traceback (most recent call last)",
      "Cell \u001b[1;32mIn[21], line 2\u001b[0m\n\u001b[0;32m      1\u001b[0m \u001b[38;5;66;03m# Group by the team and population\u001b[39;00m\n\u001b[1;32m----> 2\u001b[0m medal_counts \u001b[38;5;241m=\u001b[39m event_medals\u001b[38;5;241m.\u001b[39mgroupby([\u001b[38;5;124m'\u001b[39m\u001b[38;5;124mteam_cleaned\u001b[39m\u001b[38;5;124m'\u001b[39m, \u001b[38;5;124m'\u001b[39m\u001b[38;5;124mpopulation\u001b[39m\u001b[38;5;124m'\u001b[39m], as_index\u001b[38;5;241m=\u001b[39m\u001b[38;5;28;01mFalse\u001b[39;00m)[\u001b[38;5;124m'\u001b[39m\u001b[38;5;124mmedal\u001b[39m\u001b[38;5;124m'\u001b[39m]\u001b[38;5;241m.\u001b[39mcount()\n\u001b[0;32m      4\u001b[0m \u001b[38;5;66;03m# Calculate the number of medals per 10000000 people\u001b[39;00m\n\u001b[0;32m      5\u001b[0m medal_counts[\u001b[38;5;124m'\u001b[39m\u001b[38;5;124mper_10M\u001b[39m\u001b[38;5;124m'\u001b[39m] \u001b[38;5;241m=\u001b[39m medal_counts[\u001b[38;5;124m'\u001b[39m\u001b[38;5;124mmedal\u001b[39m\u001b[38;5;124m'\u001b[39m] \u001b[38;5;241m/\u001b[39m (medal_counts[\u001b[38;5;124m'\u001b[39m\u001b[38;5;124mpopulation\u001b[39m\u001b[38;5;124m'\u001b[39m] \u001b[38;5;241m/\u001b[39m \u001b[38;5;241m1000000\u001b[39m)\n",
      "\u001b[1;31mNameError\u001b[0m: name 'event_medals' is not defined"
     ]
    }
   ],
   "source": [
    "# Group by the team and population\n",
    "medal_counts = event_medals.groupby(['team_cleaned', 'population'], as_index=False)['medal'].count()\n",
    "\n",
    "# Calculate the number of medals per 10000000 people\n",
    "medal_counts['per_10M'] = medal_counts['medal'] / (medal_counts['population'] / 1000000)\n",
    "\n",
    "# Sort values and take the top 20 countries\n",
    "top_countries = medal_counts.sort_values('per_10M', ascending=False).head(20)\n",
    "\n",
    "top_countries.head()"
   ]
  },
  {
   "cell_type": "markdown",
   "id": "bbac3ed0-06f3-4318-adf8-605cadd7fe55",
   "metadata": {},
   "source": [
    "How a bar chart would look like?"
   ]
  },
  {
   "cell_type": "code",
   "execution_count": 22,
   "id": "60a68473-bf98-4e4c-ba72-06d7d9709123",
   "metadata": {
    "executionCancelledAt": null,
    "executionTime": 82,
    "lastExecutedAt": 1737208972240,
    "lastExecutedByKernel": "8a84c3c1-8991-489d-9264-2fae31a8de5d",
    "lastScheduledRunId": null,
    "lastSuccessfullyExecutedCode": "fig = px.bar(\n    top_countries,\n    x='team_cleaned',\n    y='per_10M',\n    labels={'team_cleaned':'Country', 'per_10M':'Medals per 10 milion'},\n    title='Medals per 10 million populatio',\n    hover_data=['population','medal']\n    \n)\n\nfig.show()",
    "outputsMetadata": {
     "0": {
      "height": 467,
      "type": "plotly"
     }
    }
   },
   "outputs": [
    {
     "ename": "NameError",
     "evalue": "name 'top_countries' is not defined",
     "output_type": "error",
     "traceback": [
      "\u001b[1;31m---------------------------------------------------------------------------\u001b[0m",
      "\u001b[1;31mNameError\u001b[0m                                 Traceback (most recent call last)",
      "Cell \u001b[1;32mIn[22], line 2\u001b[0m\n\u001b[0;32m      1\u001b[0m fig \u001b[38;5;241m=\u001b[39m px\u001b[38;5;241m.\u001b[39mbar(\n\u001b[1;32m----> 2\u001b[0m     top_countries,\n\u001b[0;32m      3\u001b[0m     x\u001b[38;5;241m=\u001b[39m\u001b[38;5;124m'\u001b[39m\u001b[38;5;124mteam_cleaned\u001b[39m\u001b[38;5;124m'\u001b[39m,\n\u001b[0;32m      4\u001b[0m     y\u001b[38;5;241m=\u001b[39m\u001b[38;5;124m'\u001b[39m\u001b[38;5;124mper_10M\u001b[39m\u001b[38;5;124m'\u001b[39m,\n\u001b[0;32m      5\u001b[0m     labels\u001b[38;5;241m=\u001b[39m{\u001b[38;5;124m'\u001b[39m\u001b[38;5;124mteam_cleaned\u001b[39m\u001b[38;5;124m'\u001b[39m:\u001b[38;5;124m'\u001b[39m\u001b[38;5;124mCountry\u001b[39m\u001b[38;5;124m'\u001b[39m, \u001b[38;5;124m'\u001b[39m\u001b[38;5;124mper_10M\u001b[39m\u001b[38;5;124m'\u001b[39m:\u001b[38;5;124m'\u001b[39m\u001b[38;5;124mMedals per 10 milion\u001b[39m\u001b[38;5;124m'\u001b[39m},\n\u001b[0;32m      6\u001b[0m     title\u001b[38;5;241m=\u001b[39m\u001b[38;5;124m'\u001b[39m\u001b[38;5;124mMedals per 10 million populatio\u001b[39m\u001b[38;5;124m'\u001b[39m,\n\u001b[0;32m      7\u001b[0m     hover_data\u001b[38;5;241m=\u001b[39m[\u001b[38;5;124m'\u001b[39m\u001b[38;5;124mpopulation\u001b[39m\u001b[38;5;124m'\u001b[39m,\u001b[38;5;124m'\u001b[39m\u001b[38;5;124mmedal\u001b[39m\u001b[38;5;124m'\u001b[39m]\n\u001b[0;32m      8\u001b[0m     \n\u001b[0;32m      9\u001b[0m )\n\u001b[0;32m     11\u001b[0m fig\u001b[38;5;241m.\u001b[39mshow()\n",
      "\u001b[1;31mNameError\u001b[0m: name 'top_countries' is not defined"
     ]
    }
   ],
   "source": [
    "fig = px.bar(\n",
    "    top_countries,\n",
    "    x='team_cleaned',\n",
    "    y='per_10M',\n",
    "    labels={'team_cleaned':'Country', 'per_10M':'Medals per 10 milion'},\n",
    "    title='Medals per 10 million populatio',\n",
    "    hover_data=['population','medal']\n",
    "    \n",
    ")\n",
    "\n",
    "fig.show()"
   ]
  },
  {
   "cell_type": "markdown",
   "id": "0481668d-27c2-48fb-a6dc-552a8686b5d5",
   "metadata": {},
   "source": [
    "## Conclusion\n",
    "After some data cleaning and bringing another data (about countries) now we know that:\n",
    "- USA has the most gold medals of all time\n",
    "- Number of disciplines for both winter and summer olympics are growing over time\n",
    "- Grenada, Bahamas and New Zealand have the most medals per 10 millions of citizens (in 2016) - are those countries the most effective in creating champions? :)"
   ]
  },
  {
   "cell_type": "code",
   "execution_count": null,
   "id": "54ef6c58-d8f2-49e3-a76d-d64735539aae",
   "metadata": {},
   "outputs": [],
   "source": []
  },
  {
   "cell_type": "code",
   "execution_count": null,
   "id": "ab19d16b-a0b0-4383-ba77-6b2f812a96ba",
   "metadata": {},
   "outputs": [],
   "source": []
  },
  {
   "cell_type": "code",
   "execution_count": null,
   "id": "98bc77e2-e6c0-49ab-8770-fe0680c8e734",
   "metadata": {},
   "outputs": [],
   "source": []
  },
  {
   "cell_type": "code",
   "execution_count": null,
   "id": "b2ce005f-c135-4c9f-9291-c329997540d8",
   "metadata": {},
   "outputs": [],
   "source": []
  },
  {
   "cell_type": "code",
   "execution_count": null,
   "id": "4f5f0de4-e508-45da-abd2-b01ef08ef7f6",
   "metadata": {},
   "outputs": [],
   "source": []
  },
  {
   "cell_type": "code",
   "execution_count": null,
   "id": "6e1a38fc-a242-47e7-aa36-8400f43f161e",
   "metadata": {},
   "outputs": [],
   "source": []
  },
  {
   "cell_type": "code",
   "execution_count": null,
   "id": "eae5e8f9-0c19-41cb-bed6-e8fa7bb78261",
   "metadata": {},
   "outputs": [],
   "source": []
  },
  {
   "cell_type": "code",
   "execution_count": null,
   "id": "c513ea5c-eceb-40a1-ab0c-ef20a6ec4614",
   "metadata": {},
   "outputs": [],
   "source": []
  },
  {
   "cell_type": "code",
   "execution_count": null,
   "id": "c7561014-c879-42ba-9fec-69caa3a91cf1",
   "metadata": {},
   "outputs": [],
   "source": []
  }
 ],
 "metadata": {
  "editor": "DataCamp Workspace",
  "kernelspec": {
   "display_name": "Python 3 (ipykernel)",
   "language": "python",
   "name": "python3"
  },
  "language_info": {
   "codemirror_mode": {
    "name": "ipython",
    "version": 3
   },
   "file_extension": ".py",
   "mimetype": "text/x-python",
   "name": "python",
   "nbconvert_exporter": "python",
   "pygments_lexer": "ipython3",
   "version": "3.12.3"
  }
 },
 "nbformat": 4,
 "nbformat_minor": 5
}
